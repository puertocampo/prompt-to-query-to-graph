{
 "cells": [
  {
   "cell_type": "code",
   "execution_count": null,
   "metadata": {},
   "outputs": [
    {
     "ename": "",
     "evalue": "",
     "output_type": "error",
     "traceback": [
      "\u001b[1;31m'Python 3.12.9' でセルを実行するには、 ipykernel パッケージが必要です。\n",
      "\u001b[1;31m次のコマンドを実行して、'ipykernel' を Python 環境にインストールします。\n",
      "\u001b[1;31mコマンド: '/opt/homebrew/bin/python3.12 -m pip install ipykernel -U --user --force-reinstall'"
     ]
    }
   ],
   "source": [
    "from typing import Annotated\n",
    "from typing_extensions import TypedDict\n",
    "from langchain_core.runnables import RunnableConfig\n",
    "from langgraph.graph import StateGraph\n",
    "from IPython.display import Image, display\n",
    "import generate_sql_query\n",
    "import exec_sql_query\n",
    "import generate_plot_code\n",
    "import execute_plot_code\n",
    "import upload_image_to_s3\n",
    "import argparse\n",
    "\n",
    "# Stateを宣言\n",
    "class State(TypedDict):\n",
    "    user_prompt: str\n",
    "    sql_query: str\n",
    "    exec_results: any\n",
    "    plot_code: str\n",
    "    image_base64: str\n",
    "    image_url: str  \n",
    "\n",
    "# Nodeを宣言\n",
    "def generate_sql_query_node(state: State, config: RunnableConfig):\n",
    "    return {**state, \"sql_query\": generate_sql_query.generate_sql_query(state[\"user_prompt\"])}\n",
    "\n",
    "def exec_sql_query_node(state: State, config: RunnableConfig):\n",
    "    return {**state, \"exec_results\": exec_sql_query.execute_sql_query(state[\"sql_query\"])}\n",
    "\n",
    "def generate_plot_code_node(state: State, config: RunnableConfig):\n",
    "    return {**state, \"plot_code\": generate_plot_code.generate_plot_code(state[\"exec_results\"], state[\"user_prompt\"])}\n",
    "\n",
    "def execute_plot_code_node(state: State, config: RunnableConfig):\n",
    "    return {**state, \"image_base64\": execute_plot_code.execute_plot_code(state[\"plot_code\"])}\n",
    "\n",
    "def upload_image_to_s3_node(state: State, config: RunnableConfig):\n",
    "    return {**state, \"image_url\": upload_image_to_s3.upload_image_to_s3(state[\"image_base64\"])}\n",
    "\n",
    "# Graphの作成\n",
    "graph_builder = StateGraph(State)\n",
    "\n",
    "# Nodeの追加\n",
    "graph_builder.add_node(\"generate_sql_query\", generate_sql_query_node)\n",
    "graph_builder.add_node(\"exec_sql_query\", exec_sql_query_node)\n",
    "graph_builder.add_node(\"generate_plot_code\", generate_plot_code_node)\n",
    "graph_builder.add_node(\"execute_plot_code\", execute_plot_code_node)\n",
    "graph_builder.add_node(\"upload_image_to_s3\", upload_image_to_s3_node)\n",
    "\n",
    "# Nodeをedgeに追加 \n",
    "graph_builder.add_edge(\"generate_sql_query\", \"exec_sql_query\")\n",
    "graph_builder.add_edge(\"exec_sql_query\", \"generate_plot_code\")\n",
    "graph_builder.add_edge(\"generate_plot_code\", \"execute_plot_code\")\n",
    "graph_builder.add_edge(\"execute_plot_code\", \"upload_image_to_s3\")\n",
    "\n",
    "# Graphの始点を宣言\n",
    "graph_builder.set_entry_point(\"generate_sql_query\")\n",
    "\n",
    "# Graphの終点を宣言\n",
    "graph_builder.set_finish_point(\"upload_image_to_s3\")\n",
    "\n",
    "# Graphをコンパイル\n",
    "graph = graph_builder.compile()\n",
    "\n",
    "# コマンドライン引数の設定\n",
    "parser = argparse.ArgumentParser(description='履修データベースのクエリと可視化を行うグラフ処理')\n",
    "parser.add_argument('prompt', type=str, help='可視化したいデータの説明（例：教員が担当している学生数の分布）')\n",
    "\n",
    "if __name__ == \"__main__\":\n",
    "    # コマンドライン引数の解析\n",
    "    args = parser.parse_args()\n",
    "\n",
    "    # Graphの表示\n",
    "    display(Image(graph.get_graph().draw_mermaid_png()))\n"
   ]
  }
 ],
 "metadata": {
  "kernelspec": {
   "display_name": "Python 3",
   "language": "python",
   "name": "python3"
  },
  "language_info": {
   "codemirror_mode": {
    "name": "ipython",
    "version": 3
   },
   "file_extension": ".py",
   "mimetype": "text/x-python",
   "name": "python",
   "nbconvert_exporter": "python",
   "pygments_lexer": "ipython3",
   "version": "3.12.9"
  }
 },
 "nbformat": 4,
 "nbformat_minor": 2
}
